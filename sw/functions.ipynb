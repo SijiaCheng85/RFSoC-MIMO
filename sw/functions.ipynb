{
 "cells": [
  {
   "cell_type": "code",
   "execution_count": null,
   "id": "811d50fa",
   "metadata": {},
   "outputs": [],
   "source": [
    "    class OFDMSymbolType(enum.Enum):\n",
    "        SYNC = 1\n",
    "        ULP = 2\n",
    "        ULD = 3\n",
    "        GUARD = 4\n",
    "        DLP = 5\n",
    "        DLD = 6"
   ]
  },
  {
   "cell_type": "code",
   "execution_count": 1,
   "id": "481332f3",
   "metadata": {},
   "outputs": [],
   "source": [
    "def normlization(mat):\n",
    "    \n",
    "    mat = np.array(mat['channels_write'])\n",
    "    #normalization\n",
    "    factor_raw = 0\n",
    "    for k in range(0,Nsub):\n",
    "        factor_raw = factor_raw + np.square(np.linalg.norm(mat[k,:,:]))\n",
    "    factor = 1/np.sqrt(factor_raw/(M*K*Nsub))\n",
    "    H_norm = np.full_like(mat,0)\n",
    "    for k in range(0,Nsub):\n",
    "        for i in range(0,M):\n",
    "            for j in range(0,K):\n",
    "                H_norm[k,i,j] = mat[k,i,j]*factor\n",
    "    return H_norm"
   ]
  },
  {
   "cell_type": "code",
   "execution_count": null,
   "id": "1f9fbc2e",
   "metadata": {},
   "outputs": [],
   "source": [
    "def addnoise(inputVector1,currentSymbolType,target_snr_db):\n",
    "    inputVector_n = inputVector1\n",
    "    if currentSymbolType == OFDMSymbolType.ULD:\n",
    "        signal_power = 10*np.log10(np.square(np.linalg.norm(inputVector1)))\n",
    "        noise_power = 10**((signal_power - target_snr_db)/10)\n",
    "        noise = np.random.normal(0, 1, size=(M,2)).view(complex)\n",
    "        noise_real_power = np.square(np.linalg.norm(noise))\n",
    "        noise1 = noise*np.sqrt(noise_power/noise_real_power)\n",
    "        inputVector_n = inputVector1 + noise1\n",
    "    return inputVector_n"
   ]
  },
  {
   "cell_type": "code",
   "execution_count": null,
   "id": "2ef55ed7",
   "metadata": {},
   "outputs": [],
   "source": [
    "def findNearestVector(inputVector,possibleSymbol,H):\n",
    "    global radius   \n",
    "    d = [] \n",
    "\n",
    "    for i in range(0,K):\n",
    "        d.append(possibleSymbol[i,0:radius[i]])\n",
    "    possibleVector = np.array(list(itertools.product(*d)))/math.sqrt(10)\n",
    "    distance = 10000000\n",
    "    for i in range(0,possibleVector.size//K):\n",
    "        tmp_dis = np.sum(abs(np.dot(H,possibleVector[i])-inputVector.reshape(M))**2)\n",
    "        \n",
    "        if tmp_dis<distance:\n",
    "            distance = tmp_dis\n",
    "            smallest = possibleVector[i]\n",
    "    return smallest"
   ]
  },
  {
   "cell_type": "code",
   "execution_count": null,
   "id": "7af78aad",
   "metadata": {},
   "outputs": [],
   "source": [
    "def findNearest(symbolInput,Nbits,Npower):\n",
    "    global Symbol4Function\n",
    "    Symbol4Function = symbolInput*math.sqrt(Npower)\n",
    "    symbolsOutput = np.array([0+0j for _ in range(2**Nbits)])\n",
    "    if Nbits ==4 :\n",
    "        symbolsOutput = sorted(np.array(QAM16Symbols), key=findDistance_QAM16)\n",
    "\n",
    "    return symbolsOutput"
   ]
  },
  {
   "cell_type": "code",
   "execution_count": null,
   "id": "97f89dea",
   "metadata": {},
   "outputs": [],
   "source": [
    "def findDistance_QAM16(symbolIn):\n",
    "    global Symbol4Function\n",
    "    return abs(symbolIn-Symbol4Function)"
   ]
  }
 ],
 "metadata": {
  "kernelspec": {
   "display_name": "Python 3 (ipykernel)",
   "language": "python",
   "name": "python3"
  },
  "language_info": {
   "codemirror_mode": {
    "name": "ipython",
    "version": 3
   },
   "file_extension": ".py",
   "mimetype": "text/x-python",
   "name": "python",
   "nbconvert_exporter": "python",
   "pygments_lexer": "ipython3",
   "version": "3.10.8"
  }
 },
 "nbformat": 4,
 "nbformat_minor": 5
}
